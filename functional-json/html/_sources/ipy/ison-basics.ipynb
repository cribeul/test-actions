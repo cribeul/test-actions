{
 "cells": [
  {
   "cell_type": "markdown",
   "metadata": {},
   "source": [
    "# Getting Started\n",
    "\n",
    "The ISON language is a functional programming language that lives within the JSON or JSON5 syntax specification. That is, every ISON script file can be read as a standard JSON file. The ISON syntax only appears in strings within the JSON file. \n",
    "\n",
    "In the following, the basic language features of ISON are presented. You can copy paste the code and run it in an Jupyter Notebook or directly in a Python file.\n",
    "\n",
    ":::{note}\n",
    "If you have installed the module `functional-json`, you can run the ISON parser also from the command line with `ison`. For command line help, run `ison -h`.\n",
    ":::"
   ]
  },
  {
   "cell_type": "markdown",
   "metadata": {},
   "source": [
    "## Values\n",
    "\n",
    "As a first example, we will simply replace a value with another one. "
   ]
  },
  {
   "cell_type": "code",
   "execution_count": 1,
   "metadata": {},
   "outputs": [
    {
     "name": "stdout",
     "output_type": "stream",
     "text": [
      "{\n",
      "    \"value\": \"world\"\n",
      "}\n"
     ]
    }
   ],
   "source": [
    "import ison\n",
    "\n",
    "# First we define a dictionary of macro values that can be replaced.\n",
    "# When using the CML for Catharsys configuration files, this part is\n",
    "# done by Catharsys.\n",
    "dicVars = {\"hello\": \"world\"}\n",
    "\n",
    "# Now we define the dictionary that is processed.\n",
    "# This is your configuration json structure.\n",
    "dicData = {\"value\": \"$hello\"}\n",
    "\n",
    "dicResult = ison.run.Run(xData=dicData, dicConstVars=dicVars)\n",
    "\n",
    "print(ison.run.ToString(dicResult))"
   ]
  },
  {
   "cell_type": "markdown",
   "metadata": {},
   "source": [
    "Variables can be accessed in two ways:\n",
    "\n",
    "- Using the full syntax: `${variable}`\n",
    "- Using the variable syntax: `$variable`\n",
    "\n",
    "The full syntax will later be used to apply functions, as in `$sum{1, 2}`.\n",
    "\n",
    "If a variable is not found, this is not an error, but the element is just left as it is. This is done to enable parsing in mutliple stages, as more data becomes available.\n"
   ]
  },
  {
   "cell_type": "code",
   "execution_count": 2,
   "metadata": {},
   "outputs": [
    {
     "name": "stdout",
     "output_type": "stream",
     "text": [
      "{\n",
      "    \"value\": \"$hello\"\n",
      "}\n"
     ]
    }
   ],
   "source": [
    "dicData = {\"value\": \"$hello\"}\n",
    "\n",
    "dicResult = ison.run.Run(xData=dicData)\n",
    "print(ison.run.ToString(dicResult))"
   ]
  },
  {
   "cell_type": "markdown",
   "metadata": {},
   "source": [
    "## Variables\n",
    "\n",
    "You can define variables within a dictionary, which can be accessed by other parts of the dictionary. These variables can either be declared as local or global variables."
   ]
  },
  {
   "cell_type": "code",
   "execution_count": 3,
   "metadata": {},
   "outputs": [
    {
     "name": "stdout",
     "output_type": "stream",
     "text": [
      "{\n",
      "    \"mValues\": {\n",
      "        \"value\": \"today\"\n",
      "    },\n",
      "    \"value\": \"world\"\n",
      "}\n"
     ]
    }
   ],
   "source": [
    "dicData = {\n",
    "    \"__globals__\": {\n",
    "        \"hello\": \"world\",\n",
    "    },\n",
    "    \"mValues\": {\n",
    "        \"__locals__\": {\n",
    "            \"hello\": \"today\",\n",
    "        },\n",
    "        \"value\": \"$hello\",\n",
    "    },\n",
    "    \"value\": \"$hello\",\n",
    "}\n",
    "\n",
    "# Set 'bStripVars' to False, to see the variables dictionaries in the output.\n",
    "dicResult = ison.run.Run(xData=dicData, bStripVars=True)\n",
    "print(ison.run.ToString(dicResult))"
   ]
  },
  {
   "cell_type": "markdown",
   "metadata": {},
   "source": [
    "Local and global variables are evaluated first, before the remainder of the dictionary is processed. If you want to define variables that are executed every time they are referenced, you need to place the variables in `__func_globals__` or `__func_locals__`. For example,"
   ]
  },
  {
   "cell_type": "code",
   "execution_count": 4,
   "metadata": {},
   "outputs": [
    {
     "name": "stdout",
     "output_type": "stream",
     "text": [
      "{\n",
      "    \"__func_globals__\": {\n",
      "        \"fRand\": \"$rand.uniform{0, 1}\"\n",
      "    },\n",
      "    \"__globals__\": {\n",
      "        \"fA\": 0.9907603148150335,\n",
      "        \"fA2\": 0.9907603148150335,\n",
      "        \"fB\": 0.7556173456393716\n",
      "    },\n",
      "    \"fA2\": 0.9907603148150335,\n",
      "    \"fA\": 0.9907603148150335,\n",
      "    \"fB\": 0.7556173456393716,\n",
      "    \"fC\": 0.038020755108450044\n",
      "}\n"
     ]
    }
   ],
   "source": [
    "dicData = {\n",
    "    \"__func_globals__\": {\n",
    "        # This variables will calculate a uniformly distributed random variable\n",
    "        \"fRand\": \"$rand.uniform{0, 1}\",\n",
    "    },\n",
    "    \"__globals__\": {\n",
    "        \"fA\": \"$fRand\",\n",
    "        \"fA2\": \"$fA\",\n",
    "        \"fB\": \"$fRand\",\n",
    "    },\n",
    "    \"fA2\": \"$fA2\",\n",
    "    \"fA\": \"$fA\",\n",
    "    \"fB\": \"$fB\",\n",
    "    \"fC\": \"$fRand\",\n",
    "}\n",
    "\n",
    "dicResult = ison.run.Run(xData=dicData, bStripVars=False)\n",
    "print(ison.run.ToString(dicResult))"
   ]
  },
  {
   "cell_type": "markdown",
   "metadata": {},
   "source": [
    "Here, the variables `fA` and  `fB` are evaluated first, before the elements outside the variable dictionaries. `fC` executes the function referenced by `fRand` again, since `fRand` is not pre-evaluated."
   ]
  },
  {
   "attachments": {},
   "cell_type": "markdown",
   "metadata": {},
   "source": [
    "### Runtime Variables\n",
    "\n",
    "These types of variables are declared in a dictionary block with the tag `__runtime_vars__`. Runtime variables are available just like global variables. However, they are not stored in the resultant dictionary itself, but only in the parser instance. This can be useful, if you need to read in a large file but only pick a small part from this file per configuration. In this case, you don't want to copy the full data set to the resultant dictionary."
   ]
  },
  {
   "cell_type": "code",
   "execution_count": 2,
   "metadata": {},
   "outputs": [
    {
     "name": "stdout",
     "output_type": "stream",
     "text": [
      "{\n",
      "    \"__runtime_vars__\": {\n",
      "        \"my_large_data\": \"$range{100}\"\n",
      "    },\n",
      "    \"iResult\": 40,\n",
      "    \"__globals__\": {}\n",
      "}\n"
     ]
    }
   ],
   "source": [
    "import ison\n",
    "\n",
    "dicData = {\n",
    "    \"__runtime_vars__\": {\n",
    "        \"my_large_data\": \"$range{100}\",\n",
    "    },\n",
    "\n",
    "    \"iResult\": \"${my_large_data:40}\",\n",
    "}\n",
    "\n",
    "dicResult = ison.run.Run(xData=dicData, bStripVars=False)\n",
    "print(ison.run.ToString(dicResult))"
   ]
  },
  {
   "cell_type": "markdown",
   "metadata": {},
   "source": [
    "## Error Messages\n",
    "\n",
    "The following example shows how to print out an error message of the ISON parser and then we will look at how to interpret it. "
   ]
  },
  {
   "cell_type": "code",
   "execution_count": 5,
   "metadata": {},
   "outputs": [
    {
     "name": "stdout",
     "output_type": "stream",
     "text": [
      "Error running ISON parser:\n",
      " 1> Error parsing '__locals__'\n",
      " 2> Error parsing variable 'iA'\n",
      " 3> String: $sum{1, a}\n",
      " 4> String element: >>$sum{1, a}<<\n",
      " 5> Function '$sum{}' with 2 argument(s):\n",
      "  |   0: 1\n",
      "  |   1: a\n",
      " 6> Function '$sum{}': Error converting list of summation elements to 'float': could not convert string to float: 'a'\n",
      "\n"
     ]
    }
   ],
   "source": [
    "import ison\n",
    "\n",
    "dicData = {\n",
    "    \"__locals__\": {\n",
    "        # Error here, because 'a' cannot be added to a number\n",
    "        \"iA\": \"$sum{1, a}\"\n",
    "    },\n",
    "    \"result\": \"${iA}\"\n",
    "}\n",
    "\n",
    "# Use a try-except block to catch error exceptions and print them.\n",
    "try:\n",
    "    dicResult = ison.run.Run(xData=dicData, bStripVars=False)\n",
    "    print(ison.run.ToString(dicResult))\n",
    "except Exception as xEx:\n",
    "    print(str(xEx))\n",
    "# endtry"
   ]
  },
  {
   "cell_type": "markdown",
   "metadata": {},
   "source": [
    "This error output shows the parsing steps until the error occured. Since the object that is parsed need not be related to a JSON file, no line numbers can be output, to show where the error occurred. Instead, the parsing steps are shown, so you can follow them to understand where and in which context the error occurred. In this example the steps are:\n",
    "\n",
    "1. The `__locals__` variables are parsed\n",
    "2. The element `iA` of the `__locals__`dictionary is parsed\n",
    "3. The element `iA` results in the an object of type `string`, with the content `$sum{1, a}`\n",
    "4. With this string all variables and functions of type `$[...]{[...]}` are parsed. The element parsed in this instance is the only variable element in this string, which is `$sum{1, a}`.\n",
    "5. The function `$sum{}` is called with the arguments as shown.\n",
    "6. The function `$sum{}` raises the error, because not all elements can be converted to `float`. In particular, it is element `a` that cannot be converted.\n",
    "\n",
    "These error outputs can become quite long, but they help to find the error, especially in cases of multiply nested references. "
   ]
  },
  {
   "cell_type": "markdown",
   "metadata": {},
   "source": [
    "## Warnings\n",
    "\n",
    "One *feature* of ISON is, that undefined variables do not cause an error. The idea is, that as much is parsed as possible at the moment, so that the remainder can be parsed when the currently unknown variables are defined. However, this behaviour an lead to errors that are caused by undefined variables, but which are not reported as such. For these cases, the ISON parser also outputs *warnings* for those variables that were accessed but are undefined. If an error is thrown, these warnings are added to the error message. If no error is thrown, the warnings can be accessed from the parser object or printed by setting a flag in the call to `Run()`. Here is an example,"
   ]
  },
  {
   "cell_type": "code",
   "execution_count": 6,
   "metadata": {},
   "outputs": [
    {
     "name": "stderr",
     "output_type": "stream",
     "text": [
      "WARNINGS:\n",
      "Undefined variable 'iA'\n",
      "| 1: dict\n",
      "| 2: [result]\n",
      "| 3: ${iA}\n",
      "\n"
     ]
    },
    {
     "name": "stdout",
     "output_type": "stream",
     "text": [
      "{\n",
      "    \"result\": \"${iA}\"\n",
      "}\n"
     ]
    }
   ],
   "source": [
    "import ison\n",
    "\n",
    "dicData = {\n",
    "    \"result\": \"${iA}\"\n",
    "}\n",
    "\n",
    "try:\n",
    "    dicResult = ison.run.Run(xData=dicData, bPrintWarnings=True)\n",
    "    print(ison.run.ToString(dicResult))\n",
    "\n",
    "except Exception as xEx:\n",
    "    print(str(xEx))\n",
    "# endtry"
   ]
  },
  {
   "cell_type": "markdown",
   "metadata": {},
   "source": [
    "Here is an example of an error that also outputs the warnings about undefined variables."
   ]
  },
  {
   "cell_type": "code",
   "execution_count": 7,
   "metadata": {},
   "outputs": [
    {
     "name": "stdout",
     "output_type": "stream",
     "text": [
      "Error running ISON parser:\n",
      " 1> Dictionary element 'result' -> string\n",
      " 2> String: ${dicA:a}\n",
      " 3> String element: >>${dicA:a}<<\n",
      " 4> Function '${}' with 1 argument(s):\n",
      "  |   0: dicA:a\n",
      " 5> Referencing variables with:\n",
      "  | > 0: dicA\n",
      "  |   1: a\n",
      " 6> Referencing dictionary element 'dicA' with:\n",
      "  | > 0: a\n",
      " 7> String result '${dicB}' cannot have further specialization 'a': dicA:>>a<<\n",
      "\n",
      "Also consider these WARNING(s):\n",
      "Undefined variable 'dicB'\n",
      "| 1: __locals__\n",
      "| 2: var: dicA\n",
      "| 3: ${dicB}\n",
      "\n",
      "\n"
     ]
    }
   ],
   "source": [
    "import ison\n",
    "\n",
    "dicData = {\n",
    "    \"__locals__\": {\n",
    "        \"dicA\": \"${dicB}\"\n",
    "    },\n",
    "    # Undefined variable 'iA'\n",
    "    \"result\": \"${dicA:a}\"\n",
    "}\n",
    "\n",
    "try:\n",
    "    dicResult = ison.run.Run(xData=dicData, bPrintWarnings=True)\n",
    "    print(ison.run.ToString(dicResult))\n",
    "\n",
    "except Exception as xEx:\n",
    "    print(str(xEx))\n",
    "# endtry"
   ]
  },
  {
   "cell_type": "markdown",
   "metadata": {},
   "source": [
    "## Logging & Print Debugging\n",
    "\n",
    "Sometimes it is helpful to print the state of variables during parsing, or to log parsed values. This can be done with the functions `$print{}` and `$set-log-path{}`. If no logging path of file is defined with the latter, the former prints to stdout. If a path to a logging file is set, `$print{}` writes to the log file. \n"
   ]
  },
  {
   "cell_type": "code",
   "execution_count": 9,
   "metadata": {},
   "outputs": [
    {
     "name": "stdout",
     "output_type": "stream",
     "text": [
      "Variable 'dicA':\n",
      "{\n",
      "    \"Hello\": \"World\"\n",
      "}\n",
      "['Hello', 'World']\n",
      "{\n",
      "    \"result\": {\n",
      "        \"Hello\": \"World\"\n",
      "    }\n",
      "}\n"
     ]
    }
   ],
   "source": [
    "import ison\n",
    "\n",
    "dicData = {\n",
    "    \"__locals__\": {\n",
    "        \"lA\": [\"Hello\", \"World\"],\n",
    "        \"dicA\": { \"Hello\": \"World\" },\n",
    "        \"sLog\": \"$print{Variable 'dicA':, $json{$dicA}, $lA}\"\n",
    "    },\n",
    "    \"result\": \"$dicA\"\n",
    "}\n",
    "\n",
    "try:\n",
    "    dicResult = ison.run.Run(xData=dicData, bPrintWarnings=True)\n",
    "    print(ison.run.ToString(dicResult))\n",
    "\n",
    "except Exception as xEx:\n",
    "    print(str(xEx))\n",
    "# endtry"
   ]
  },
  {
   "cell_type": "markdown",
   "metadata": {},
   "source": [
    "You can set a logging path in three ways with `$set-log-path{}`:\n",
    "\n",
    "1. Without arguments the current working directory is used a logging path and a filename is automatically generated.\n",
    "2. Give a path without filename. In this case, a filename is automatically generated and the path is created.\n",
    "3. Give a full filepath. If the path does not exist, it is created.\n"
   ]
  },
  {
   "cell_type": "code",
   "execution_count": 10,
   "metadata": {},
   "outputs": [
    {
     "name": "stdout",
     "output_type": "stream",
     "text": [
      "{\n",
      "    \"result\": {\n",
      "        \"Hello\": \"World\"\n",
      "    }\n",
      "}\n"
     ]
    }
   ],
   "source": [
    "import ison\n",
    "\n",
    "dicData = {\n",
    "    \"__locals__\": {\n",
    "        \"sLogPath\": \"$set-log-path{}\",\n",
    "        \"dicA\": { \"Hello\": \"World\" },\n",
    "        \"sLog\": \"$print{Variable 'dicA':, $json{$dicA}, }\"\n",
    "    },\n",
    "    # Uncomment the following line to see the path of the log file\n",
    "    # in the printed output.\n",
    "    # \"log-path\": \"${sLogPath}\",\n",
    "    \"result\": \"$dicA\"\n",
    "}\n",
    "\n",
    "try:\n",
    "    dicResult = ison.run.Run(xData=dicData, bPrintWarnings=True)\n",
    "    print(ison.run.ToString(dicResult))\n",
    "\n",
    "except Exception as xEx:\n",
    "    print(str(xEx))\n",
    "# endtry"
   ]
  }
 ],
 "metadata": {
  "kernelspec": {
   "display_name": "Python 3.10.6 ('cath3')",
   "language": "python",
   "name": "python3"
  },
  "language_info": {
   "codemirror_mode": {
    "name": "ipython",
    "version": 3
   },
   "file_extension": ".py",
   "mimetype": "text/x-python",
   "name": "python",
   "nbconvert_exporter": "python",
   "pygments_lexer": "ipython3",
   "version": "3.10.6"
  },
  "orig_nbformat": 4,
  "vscode": {
   "interpreter": {
    "hash": "d144e52b91e679811e4cceb0036205285e180e4be0ba7d3643a3ec09e4fe9f87"
   }
  }
 },
 "nbformat": 4,
 "nbformat_minor": 2
}
